{
 "cells": [
  {
   "cell_type": "markdown",
   "metadata": {},
   "source": [
    "  # Coleta de Dados Meteorológicos e de Geração de Energia Solar\n",
    "\n",
    "\n",
    "\n",
    "  Este notebook documenta o processo detalhado de coleta e processamento dos dados meteorológicos fornecidos pelo INMET (Instituto Nacional de Meteorologia) e dos dados de geração de energia solar disponibilizados pela ONS (Operador Nacional do Sistema Elétrico). O objetivo é integrar essas fontes de dados em um único banco de dados para análise e previsão de geração de energia solar."
   ]
  },
  {
   "cell_type": "markdown",
   "metadata": {},
   "source": [
    "## Importação de Bibliotecas Necessárias"
   ]
  },
  {
   "cell_type": "code",
   "execution_count": 1,
   "metadata": {},
   "outputs": [],
   "source": [
    "import os  # Biblioteca para manipulação de arquivos e diretórios\n",
    "import sys  # Biblioteca para manipulação de caminhos do sistema\n",
    "import pandas as pd  # Biblioteca para manipulação de dataframes\n",
    "\n",
    "# Ajuste do sys.path para incluir o diretório src, onde estão os scripts específicos do projeto\n",
    "current_dir = os.getcwd()  # Diretório de trabalho atual\n",
    "src_path = os.path.abspath(os.path.join(current_dir, '..', 'src'))\n",
    "if src_path not in sys.path:\n",
    "    sys.path.append(src_path)\n",
    "\n",
    "# Importar funções específicas do projeto\n",
    "from data_collection import *\n",
    "from database import create_connection, query_data"
   ]
  },
  {
   "cell_type": "markdown",
   "metadata": {},
   "source": [
    "## Conexão com o Banco de Dados\n"
   ]
  },
  {
   "cell_type": "code",
   "execution_count": 2,
   "metadata": {},
   "outputs": [],
   "source": [
    "# Conexão com o banco de dados\n",
    "current_dir = os.getcwd()  # Diretório de trabalho atual, que é dentro de 'data'\n",
    "repository_dir = os.path.abspath(os.path.join(current_dir, '..'))  # Voltar um nível para o diretório do repositório\n",
    "db_file = os.path.join(repository_dir, 'data', 'processed', 'dados_solar.db')\n",
    "conn = create_connection(db_file)  # Função personalizada para criar uma conexão com o banco de dados"
   ]
  },
  {
   "cell_type": "markdown",
   "metadata": {},
   "source": [
    "  ## Dados Meteorológicos"
   ]
  },
  {
   "cell_type": "markdown",
   "metadata": {},
   "source": [
    "  ### Configurações Iniciais\n",
    "\n",
    "\n",
    "\n",
    "  Nesta seção, definimos a URL base para os dados meteorológicos do INMET, os anos que queremos baixar e o diretório de destino onde os dados serão armazenados. Também estabelecemos a conexão com o banco de dados onde os dados processados serão armazenados."
   ]
  },
  {
   "cell_type": "code",
   "execution_count": null,
   "metadata": {},
   "outputs": [],
   "source": [
    "# Configurações\n",
    "base_url = \"https://portal.inmet.gov.br/uploads/dadoshistoricos/\"  # URL base para download dos dados do INMET\n",
    "\n",
    "# Lista de anos para baixar os dados\n",
    "ano_inicial = 2003\n",
    "ano_final = 2003\n",
    "\n",
    "# Diretório de destino para armazenar os dados baixados\n",
    "dest_dir = os.path.join(repository_dir, 'data', 'raw', 'INMET')"
   ]
  },
  {
   "cell_type": "markdown",
   "metadata": {},
   "source": [
    "  ### Baixar e Extrair Arquivos ZIP do INMET\n",
    "\n",
    "\n",
    "\n",
    "  Utilizamos a função `baixar_e_extrair_zip` para baixar e extrair os arquivos ZIP do INMET. Esta função automatiza o processo de download e extração, facilitando a coleta de dados para múltiplos anos."
   ]
  },
  {
   "cell_type": "code",
   "execution_count": null,
   "metadata": {},
   "outputs": [],
   "source": [
    "print(f\"Importando dados do INMET de {ano_inicial} a {ano_final}...\")\n",
    "\n",
    "# Baixar e extrair dados\n",
    "for ano in range(ano_inicial, ano_final + 1):\n",
    "    url = base_url + f\"{ano}.zip\"\n",
    "    baixar_e_extrair_zip(url, dest_dir)"
   ]
  },
  {
   "cell_type": "markdown",
   "metadata": {},
   "source": [
    "  ### Processar e Armazenar Dados do INMET\n",
    "\n",
    "\n",
    "\n",
    "  Nesta etapa, percorremos o diretório onde os dados foram extraídos, lemos os arquivos CSV relevantes, processamos e armazenamos os dados no banco de dados. Os arquivos CSV que começam com \"INMET_SE_MG\" são especificamente selecionados para este processamento."
   ]
  },
  {
   "cell_type": "code",
   "execution_count": null,
   "metadata": {},
   "outputs": [],
   "source": [
    "# Processar e armazenar dados do INMET\n",
    "for root, dirs, files in os.walk(dest_dir):  # Percorre todas as pastas e arquivos no diretório de destino\n",
    "    for file in files:\n",
    "        if file.startswith(\"INMET_SE_MG\"):  # Seleciona arquivos que começam com \"INMET_SE_MG\"\n",
    "            file_path = os.path.join(root, file)  # Caminho completo do arquivo\n",
    "            df = ler_csv_com_metadados(file_path)  # Lê o arquivo CSV com metadados\n",
    "            df, colunas_importantes = filtrar_colunas(df)  # Filtra as colunas importantes\n",
    "            df = renomear_colunas(df, colunas_importantes)  # Renomeia as colunas para um padrão consistente\n",
    "            df.to_sql('dados_inmet', conn, if_exists='append', index=False)  # Armazena os dados no banco de dados"
   ]
  },
  {
   "cell_type": "markdown",
   "metadata": {},
   "source": [
    "  ## Dados de Geração de Energia Solar (ONS)"
   ]
  },
  {
   "cell_type": "markdown",
   "metadata": {},
   "source": [
    "  ### Configurações Iniciais\n",
    "\n",
    "\n",
    "\n",
    "  Nesta seção, definimos os anos que queremos baixar e o diretório de destino onde os dados serão armazenados."
   ]
  },
  {
   "cell_type": "code",
   "execution_count": null,
   "metadata": {},
   "outputs": [],
   "source": [
    "# Configurações\n",
    "ano_inicial = 2013\n",
    "ano_final = 2023\n",
    "\n",
    "# Diretório de destino para armazenar os dados baixados\n",
    "dest_dir = os.path.join(repository_dir, 'data', 'raw', 'ONS')"
   ]
  },
  {
   "cell_type": "markdown",
   "metadata": {},
   "source": [
    "  ### Coleta, Processamento e Armazenamento de Dados da ONS\n",
    "\n",
    "Utilizamos funções definidas para coletar e processar os dados de geração de energia solar da ONS. Os dados são coletados tanto em formato CSV quanto em formato Excel, dependendo do ano."
   ]
  },
  {
   "cell_type": "code",
   "execution_count": null,
   "metadata": {},
   "outputs": [],
   "source": [
    "# Coletar e processar dados da ONS\n",
    "df_geracao = processar_dados_geracao(ano_inicial, ano_final, dest_dir)\n",
    "\n",
    "# Salvar dados no banco de dados\n",
    "df_geracao['din_instante'] = pd.to_datetime(df_geracao['din_instante'])\n",
    "\n",
    "# Supondo que você tem outro DataFrame df_geracao que também contém Timestamps\n",
    "df_geracao['din_instante'] = df_geracao['din_instante'].dt.strftime('%Y-%m-%d %H:%M:%S')\n",
    "\n",
    "# Salvar dados no banco de dados\n",
    "df_geracao.to_sql('dados_usinas', conn, if_exists='replace', index=False)"
   ]
  },
  {
   "cell_type": "markdown",
   "metadata": {},
   "source": [
    "### Relação Usina - CEG"
   ]
  },
  {
   "cell_type": "code",
   "execution_count": 3,
   "metadata": {},
   "outputs": [
    {
     "data": {
      "text/plain": [
       "113"
      ]
     },
     "execution_count": 3,
     "metadata": {},
     "output_type": "execute_result"
    }
   ],
   "source": [
    "# Caminho para carregar os dados da ONS de usinas por CEG\n",
    "arq_path = os.path.join(repository_dir, 'data', 'external', 'Tabela Relação Usinas (ONS).xlsx')\n",
    "\n",
    "# Carregar os dados da ONS de usinas por CEG\n",
    "df_ons = pd.read_excel(arq_path)\n",
    "\n",
    "# Salvar dados no banco de dados\n",
    "df_ons.to_sql('dados_ceg', conn, if_exists='replace', index=False)\n",
    "\n",
    "# Fechar a conexão com o banco de dados\n",
    "print(\"Dados importados com sucesso!\")\n",
    "conn.close()\n"
   ]
  }
 ],
 "metadata": {
  "kernelspec": {
   "display_name": "Python 3",
   "language": "python",
   "name": "python3"
  },
  "language_info": {
   "codemirror_mode": {
    "name": "ipython",
    "version": 3
   },
   "file_extension": ".py",
   "mimetype": "text/x-python",
   "name": "python",
   "nbconvert_exporter": "python",
   "pygments_lexer": "ipython3",
   "version": "3.11.9"
  }
 },
 "nbformat": 4,
 "nbformat_minor": 2
}
